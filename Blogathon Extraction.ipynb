{
 "cells": [
  {
   "cell_type": "markdown",
   "metadata": {},
   "source": [
    "## Importing required libraries"
   ]
  },
  {
   "cell_type": "code",
   "execution_count": null,
   "metadata": {},
   "outputs": [],
   "source": [
    "import urllib.request\n",
    "import pandas as pd\n",
    "import re\n",
    "import time\n",
    "import numpy as np\n",
    "from tqdm import tqdm"
   ]
  },
  {
   "cell_type": "markdown",
   "metadata": {},
   "source": [
    "## Custom functions needed"
   ]
  },
  {
   "cell_type": "code",
   "execution_count": null,
   "metadata": {},
   "outputs": [],
   "source": [
    "def url_get_contents(url):\n",
    "\n",
    "    req = urllib.request.Request(url=url, headers={'User-Agent': 'Mozilla/5.0'})\n",
    "    f = urllib.request.urlopen(req)\n",
    "    return f.read()"
   ]
  },
  {
   "cell_type": "code",
   "execution_count": null,
   "metadata": {},
   "outputs": [],
   "source": [
    "def replace_all(dict, str):\n",
    "    for key in dict:\n",
    "        str = str.replace(key, dict[key])\n",
    "    return str"
   ]
  },
  {
   "cell_type": "code",
   "execution_count": null,
   "metadata": {},
   "outputs": [],
   "source": [
    "def decodeEmail(e):\n",
    "    de = \"\"\n",
    "    k = int(e[:2], 16)\n",
    "\n",
    "    for i in range(2, len(e)-1, 2):\n",
    "        de += chr(int(e[i:i+2], 16)^k)\n",
    "\n",
    "    return de"
   ]
  },
  {
   "cell_type": "markdown",
   "metadata": {},
   "source": [
    "## Extraction process"
   ]
  },
  {
   "cell_type": "code",
   "execution_count": null,
   "metadata": {},
   "outputs": [],
   "source": [
    "# for blogathon >= 9\n",
    "\n",
    "data = {\n",
    "    'rank': [],\n",
    "    'username': [],\n",
    "    'article_link': [],\n",
    "    'date': [],\n",
    "    'views': [],\n",
    "    'creator_club_status': [],\n",
    "    'article_cat': []\n",
    "}"
   ]
  },
  {
   "cell_type": "code",
   "execution_count": null,
   "metadata": {},
   "outputs": [],
   "source": [
    "# for blogathon >= 9\n",
    "\n",
    "for i in tqdm(range(1,4)):\n",
    "    xhtml = url_get_contents(f\"https://datahack.analyticsvidhya.com/contest/data-science-blogathon-11/lb/{i}/\").decode('utf-8')\n",
    "\n",
    "    r = re.compile(r'<tbody>.*</tbody>', re.DOTALL)\n",
    "\n",
    "    tableData = r.findall(xhtml)[0]\n",
    "\n",
    "    cleanedTableData = replace_all({\"<tbody>\":\"\", \"</tbody>\":\"\", \"\\n\": \"\"}, tableData).strip()[:-1]\n",
    "\n",
    "    tableRowsList = cleanedTableData.split('</tr>')\n",
    "\n",
    "    for i in range(len(tableRowsList)): \n",
    "        row = tableRowsList[i]\n",
    "        row = row.split('</td>')[:-1]\n",
    "        data['rank'].append(row[0][8:])\n",
    "        data['views'].append(row[-1][4:])\n",
    "        data['creator_club_status'].append(1 if \"<sup>\" in row[2] else 0)\n",
    "        data['date'].append(row[4][4:])\n",
    "        username = row[2].split('<sup>')[0].strip()[4:]\n",
    "        data['username'].append(username if '[email&#160;protected]' not in username else decodeEmail(username.split('>')[0].replace('\"', '').split('=')[-1]))\n",
    "        data['article_link'].append(row[3].split('=')[1].replace('\"', '')[:-7])\n",
    "        \n",
    "    time.sleep(3)"
   ]
  },
  {
   "cell_type": "code",
   "execution_count": null,
   "metadata": {
    "scrolled": false
   },
   "outputs": [],
   "source": [
    "# article categories extraction\n",
    "\n",
    "for i in tqdm(range(len(data['article_link']))):\n",
    "    try:\n",
    "        webD = url_get_contents(data['article_link'][i]).decode('utf-8')\n",
    "        cat = ','.join([i.split('>')[-1] for i in webD.split('<div class=\"article-categories\">')[1].split('</div>')[0].replace('\\n', '').split('</a>')[:-1]])\n",
    "        data['article_cat'].append(cat)\n",
    "    except:\n",
    "        data['article_cat'].append('NA')\n",
    "    time.sleep(1)"
   ]
  },
  {
   "cell_type": "code",
   "execution_count": null,
   "metadata": {},
   "outputs": [],
   "source": [
    "# for blogathons 6,7,8\n",
    "\n",
    "data = {\n",
    "    'rank': [],\n",
    "    'username': [],\n",
    "    'date': [],\n",
    "    'views': [],\n",
    "    'creator_club_status': [],\n",
    "}"
   ]
  },
  {
   "cell_type": "code",
   "execution_count": null,
   "metadata": {},
   "outputs": [],
   "source": [
    "# for blogathons 6,7,8\n",
    "\n",
    "for i in tqdm(range(1,6)):\n",
    "    xhtml = url_get_contents(f\"https://datahack.analyticsvidhya.com/contest/data-science-blogathon-8/lb/{i}/\").decode('utf-8')\n",
    "\n",
    "    r = re.compile(r'<tbody>.*</tbody>', re.DOTALL)\n",
    "\n",
    "    tableData = r.findall(xhtml)[0]\n",
    "\n",
    "    cleanedTableData = replace_all({\"<tbody>\":\"\", \"</tbody>\":\"\", \"\\n\": \"\"}, tableData).strip()[:-1]\n",
    "\n",
    "    tableRowsList = cleanedTableData.split('</tr>')\n",
    "\n",
    "    for i in range(len(tableRowsList)): # len(tableRowsList)\n",
    "        row = tableRowsList[i]\n",
    "        row = row.split('</td>')[:-1]\n",
    "        data['rank'].append(row[0][8:])\n",
    "        data['views'].append(row[-1][4:])\n",
    "        data['creator_club_status'].append(1 if \"<sup>\" in row[2] else 0)\n",
    "        data['date'].append(row[4][4:])\n",
    "        username = row[2].split('<sup>')[0].strip()[4:]\n",
    "        data['username'].append(username if '[email&#160;protected]' not in username else decodeEmail(username.split('>')[0].replace('\"', '').split('=')[-1]))\n",
    "        \n",
    "    time.sleep(3)"
   ]
  },
  {
   "cell_type": "markdown",
   "metadata": {},
   "source": [
    "## Data transformation and saving"
   ]
  },
  {
   "cell_type": "code",
   "execution_count": null,
   "metadata": {},
   "outputs": [],
   "source": [
    "df = pd.DataFrame(data)"
   ]
  },
  {
   "cell_type": "code",
   "execution_count": null,
   "metadata": {},
   "outputs": [],
   "source": [
    "for i in df.columns:\n",
    "    if df[i].dtype != np.int64:\n",
    "        df[i] = df[i].str.replace('>', '')"
   ]
  },
  {
   "cell_type": "code",
   "execution_count": null,
   "metadata": {},
   "outputs": [],
   "source": [
    "for i in ['rank', 'views']:\n",
    "    df[i] = df[i].astype(int)"
   ]
  },
  {
   "cell_type": "code",
   "execution_count": null,
   "metadata": {},
   "outputs": [],
   "source": [
    "df['date'] = pd.to_datetime(df['date'])"
   ]
  },
  {
   "cell_type": "code",
   "execution_count": null,
   "metadata": {},
   "outputs": [],
   "source": [
    "df.to_csv('blogathon_8.csv')"
   ]
  },
  {
   "cell_type": "code",
   "execution_count": null,
   "metadata": {},
   "outputs": [],
   "source": [
    "df.head()"
   ]
  },
  {
   "cell_type": "code",
   "execution_count": null,
   "metadata": {},
   "outputs": [],
   "source": [
    "# categories counter\n",
    "\n",
    "cat = {}\n",
    "for i in df['article_cat']:\n",
    "    for j in i.split(','):\n",
    "        if j in cat:\n",
    "            cat[j] += 1\n",
    "        else:\n",
    "            cat[j] = 1"
   ]
  },
  {
   "cell_type": "code",
   "execution_count": null,
   "metadata": {},
   "outputs": [],
   "source": [
    "sorted(cat.items(), key=lambda x: x[1])[::-1]"
   ]
  },
  {
   "cell_type": "code",
   "execution_count": null,
   "metadata": {},
   "outputs": [],
   "source": []
  }
 ],
 "metadata": {
  "kernelspec": {
   "display_name": "Python 3",
   "language": "python",
   "name": "python3"
  },
  "language_info": {
   "codemirror_mode": {
    "name": "ipython",
    "version": 3
   },
   "file_extension": ".py",
   "mimetype": "text/x-python",
   "name": "python",
   "nbconvert_exporter": "python",
   "pygments_lexer": "ipython3",
   "version": "3.7.6"
  }
 },
 "nbformat": 4,
 "nbformat_minor": 4
}
